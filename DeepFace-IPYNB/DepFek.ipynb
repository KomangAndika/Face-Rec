{
 "cells": [
  {
   "cell_type": "code",
   "execution_count": 1,
   "metadata": {},
   "outputs": [
    {
     "name": "stderr",
     "output_type": "stream",
     "text": [
      "/Users/komangandikawirasantosa/opt/anaconda3/lib/python3.9/site-packages/scipy/__init__.py:146: UserWarning: A NumPy version >=1.16.5 and <1.23.0 is required for this version of SciPy (detected version 1.26.4\n",
      "  warnings.warn(f\"A NumPy version >={np_minversion} and <{np_maxversion}\"\n"
     ]
    }
   ],
   "source": [
    "from deepface import DeepFace\n",
    "import json"
   ]
  },
  {
   "cell_type": "code",
   "execution_count": 3,
   "metadata": {},
   "outputs": [
    {
     "name": "stdout",
     "output_type": "stream",
     "text": [
      "{\n",
      "  \"verified\": false,\n",
      "  \"distance\": 0.8571385339546812,\n",
      "  \"threshold\": 0.68,\n",
      "  \"model\": \"VGG-Face\",\n",
      "  \"detector_backend\": \"opencv\",\n",
      "  \"similarity_metric\": \"cosine\",\n",
      "  \"facial_areas\": {\n",
      "    \"img1\": {\n",
      "      \"x\": 335,\n",
      "      \"y\": 108,\n",
      "      \"w\": 484,\n",
      "      \"h\": 484,\n",
      "      \"left_eye\": [\n",
      "        645,\n",
      "        290\n",
      "      ],\n",
      "      \"right_eye\": [\n",
      "        489,\n",
      "        301\n",
      "      ]\n",
      "    },\n",
      "    \"img2\": {\n",
      "      \"x\": 318,\n",
      "      \"y\": 259,\n",
      "      \"w\": 389,\n",
      "      \"h\": 389,\n",
      "      \"left_eye\": [\n",
      "        579,\n",
      "        401\n",
      "      ],\n",
      "      \"right_eye\": [\n",
      "        423,\n",
      "        395\n",
      "      ]\n",
      "    }\n",
      "  },\n",
      "  \"time\": 3.4\n",
      "}\n"
     ]
    }
   ],
   "source": [
    "result = DeepFace.verify(img1_path=\"/Users/komangandikawirasantosa/Face-Rec/DeepFace-Recog/Photos/Barron.png\",img2_path=\"/Users/komangandikawirasantosa/Face-Rec/DeepFace-Recog/Photos/TrumpMew1.png\")\n",
    "print(json.dumps(result,indent=2))"
   ]
  },
  {
   "cell_type": "code",
   "execution_count": 6,
   "metadata": {},
   "outputs": [],
   "source": [
    "import pandas as pd\n",
    "\n",
    "# Set Pandas to display the full content without truncation\n",
    "pd.set_option('display.max_colwidth', None)\n"
   ]
  },
  {
   "cell_type": "code",
   "execution_count": 7,
   "metadata": {},
   "outputs": [
    {
     "name": "stdout",
     "output_type": "stream",
     "text": [
      "24-10-10 16:27:49 - Searching /Users/komangandikawirasantosa/Face-Rec/DeepFace-IPYNB/Search.png in 7 length datastore\n",
      "24-10-10 16:27:50 - find function duration 1.0418107509613037 seconds\n",
      "[                                                                      identity  \\\n",
      "0  /Users/komangandikawirasantosa/Face-Rec/DeepFace-Recog/Photos/TrumpMew2.png   \n",
      "1     /Users/komangandikawirasantosa/Face-Rec/DeepFace-Recog/Photos/Trump1.png   \n",
      "2     /Users/komangandikawirasantosa/Face-Rec/DeepFace-Recog/Photos/Trump3.png   \n",
      "\n",
      "                                       hash  target_x  target_y  target_w  \\\n",
      "0  d8baf7c8783018470b47cfb9790eda1407a6aa23       183        93       346   \n",
      "1  f7589797d221e817c885a2abc2f36886a9536853       259       150       368   \n",
      "2  ba519763be81cdaf8ac687940685e5f0ac82db26       430       177       346   \n",
      "\n",
      "   target_h  source_x  source_y  source_w  source_h  threshold  distance  \n",
      "0       346       170        27       682       682       0.68  0.613812  \n",
      "1       368       170        27       682       682       0.68  0.665577  \n",
      "2       346       170        27       682       682       0.68  0.669155  ]\n"
     ]
    }
   ],
   "source": [
    "dfs = DeepFace.find(\n",
    "  img_path = \"/Users/komangandikawirasantosa/Face-Rec/DeepFace-IPYNB/Search.png\",\n",
    "  db_path = \"/Users/komangandikawirasantosa/Face-Rec/DeepFace-Recog/Photos\",\n",
    ")\n",
    "print(dfs)"
   ]
  },
  {
   "cell_type": "code",
   "execution_count": null,
   "metadata": {},
   "outputs": [],
   "source": []
  }
 ],
 "metadata": {
  "kernelspec": {
   "display_name": "Python 3 (ipykernel)",
   "language": "python",
   "name": "python3"
  },
  "language_info": {
   "codemirror_mode": {
    "name": "ipython",
    "version": 3
   },
   "file_extension": ".py",
   "mimetype": "text/x-python",
   "name": "python",
   "nbconvert_exporter": "python",
   "pygments_lexer": "ipython3",
   "version": "3.9.12"
  }
 },
 "nbformat": 4,
 "nbformat_minor": 2
}
