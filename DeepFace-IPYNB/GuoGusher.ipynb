{
 "cells": [
  {
   "cell_type": "code",
   "execution_count": 1,
   "metadata": {},
   "outputs": [],
   "source": [
    "import cv2\n",
    "import time\n",
    "import numpy as np\n",
    "import insightface\n",
    "from insightface.app import FaceAnalysis\n",
    "from mtcnn import MTCNN\n",
    "import os"
   ]
  },
  {
   "cell_type": "code",
   "execution_count": 2,
   "metadata": {},
   "outputs": [],
   "source": [
    "import os\n",
    "os.chdir(\"/Users/komangandikawirasantosa/Face-Rec/DeepFace-IPYNB\")"
   ]
  },
  {
   "cell_type": "code",
   "execution_count": 3,
   "metadata": {},
   "outputs": [
    {
     "data": {
      "text/plain": [
       "'/Users/komangandikawirasantosa/Face-Rec/DeepFace-IPYNB'"
      ]
     },
     "execution_count": 3,
     "metadata": {},
     "output_type": "execute_result"
    }
   ],
   "source": [
    "os.getcwd()"
   ]
  },
  {
   "cell_type": "code",
   "execution_count": 4,
   "metadata": {},
   "outputs": [
    {
     "name": "stderr",
     "output_type": "stream",
     "text": [
      "/Users/komangandikawirasantosa/opt/anaconda3/lib/python3.9/site-packages/onnxruntime/capi/onnxruntime_inference_collection.py:69: UserWarning: Specified provider 'CUDAExecutionProvider' is not in available provider names.Available providers: 'CoreMLExecutionProvider, AzureExecutionProvider, CPUExecutionProvider'\n",
      "  warnings.warn(\n"
     ]
    },
    {
     "name": "stdout",
     "output_type": "stream",
     "text": [
      "Applied providers: ['CPUExecutionProvider'], with options: {'CPUExecutionProvider': {}}\n",
      "model ignore: /Users/komangandikawirasantosa/.insightface/models/buffalo_l/1k3d68.onnx landmark_3d_68\n",
      "Applied providers: ['CPUExecutionProvider'], with options: {'CPUExecutionProvider': {}}\n",
      "model ignore: /Users/komangandikawirasantosa/.insightface/models/buffalo_l/2d106det.onnx landmark_2d_106\n",
      "Applied providers: ['CPUExecutionProvider'], with options: {'CPUExecutionProvider': {}}\n",
      "find model: /Users/komangandikawirasantosa/.insightface/models/buffalo_l/det_10g.onnx detection [1, 3, '?', '?'] 127.5 128.0\n",
      "Applied providers: ['CPUExecutionProvider'], with options: {'CPUExecutionProvider': {}}\n",
      "model ignore: /Users/komangandikawirasantosa/.insightface/models/buffalo_l/genderage.onnx genderage\n",
      "Applied providers: ['CPUExecutionProvider'], with options: {'CPUExecutionProvider': {}}\n",
      "find model: /Users/komangandikawirasantosa/.insightface/models/buffalo_l/w600k_r50.onnx recognition ['None', 3, 112, 112] 127.5 127.5\n",
      "set det-size: (640, 640)\n"
     ]
    }
   ],
   "source": [
    "app = FaceAnalysis(allowed_modules=['detection', 'recognition'])\n",
    "app.prepare(ctx_id=0, det_size=(640, 640))"
   ]
  },
  {
   "cell_type": "code",
   "execution_count": 5,
   "metadata": {},
   "outputs": [],
   "source": [
    "# Define zones\n",
    "frame_height, frame_width = 480, 640\n",
    "zones = {\n",
    "    \"Top-Left\": (0, 0, frame_width // 2, frame_height // 2),\n",
    "    \"Top-Right\": (frame_width // 2, 0, frame_width, frame_height // 2),\n",
    "    \"Bottom-Left\": (0, frame_height // 2, frame_width // 2, frame_height),\n",
    "    \"Bottom-Right\": (frame_width // 2, frame_height // 2, frame_width, frame_height),\n",
    "}\n"
   ]
  },
  {
   "cell_type": "code",
   "execution_count": 10,
   "metadata": {},
   "outputs": [],
   "source": [
    "database = {}\n",
    "path_to_images = \"Database/\" "
   ]
  },
  {
   "cell_type": "code",
   "execution_count": 7,
   "metadata": {},
   "outputs": [],
   "source": [
    "for filename in os.listdir(path_to_images):\n",
    "    if filename.endswith(\".jpg\") or filename.endswith(\".png\"):\n",
    "        filepath = os.path.join(path_to_images, filename)\n",
    "        image = cv2.imread(filepath)\n",
    "        faces = app.get(image)\n",
    "        \n",
    "        if len(faces) > 0:\n",
    "            # Use the first detected face for embedding\n",
    "            embedding = faces[0].embedding\n",
    "            database[filename.split(\".\")[0]] = embedding"
   ]
  },
  {
   "cell_type": "code",
   "execution_count": 8,
   "metadata": {},
   "outputs": [],
   "source": [
    "# Function to get the zone based on face coordinates\n",
    "def get_zone(x, y, w, h):\n",
    "    centroid_x, centroid_y = x + w // 2, y + h // 2\n",
    "    for zone_name, (x1, y1, x2, y2) in zones.items():\n",
    "        if x1 <= centroid_x <= x2 and y1 <= centroid_y <= y2:\n",
    "            return zone_name\n",
    "    return \"Unknown\""
   ]
  },
  {
   "cell_type": "code",
   "execution_count": 11,
   "metadata": {},
   "outputs": [],
   "source": [
    "# Initialize video capture\n",
    "cap = cv2.VideoCapture(1)\n",
    "capture_interval = 3  # seconds\n",
    "last_capture_time = time.time()\n",
    "\n",
    "while cap.isOpened():\n",
    "    ret, frame = cap.read()\n",
    "    if not ret:\n",
    "        break\n",
    "    \n",
    "    current_time = time.time()\n",
    "    if current_time - last_capture_time >= capture_interval:\n",
    "        last_capture_time = current_time  # Update capture time\n",
    "\n",
    "        # Detect faces in the frame using InsightFace\n",
    "        faces = app.get(frame)\n",
    "        \n",
    "        for face in faces:\n",
    "            x, y, w, h = face.bbox.astype(int)\n",
    "            embedding = face.embedding\n",
    "            \n",
    "            # Match embedding with the database\n",
    "            name = \"Unknown\"\n",
    "            min_distance = float(\"inf\")\n",
    "            \n",
    "            for db_name, db_encoding in database.items():\n",
    "                distance = np.linalg.norm(db_encoding - embedding)\n",
    "                if distance < min_distance and distance < 0.7:  # Set a threshold for recognition\n",
    "                    min_distance = distance\n",
    "                    name = db_name\n",
    "            \n",
    "            # Identify zone\n",
    "            zone = get_zone(x, y, w, h)\n",
    "            \n",
    "            # Draw box and label on the frame\n",
    "            cv2.rectangle(frame, (x, y), (w, h), (0, 255, 0), 2)\n",
    "            cv2.putText(frame, f\"{name} - {zone}\", (x, y - 10), cv2.FONT_HERSHEY_SIMPLEX, 0.9, (255, 255, 255), 2)\n",
    "\n",
    "        # Display the frame with annotations\n",
    "        cv2.imshow(\"Zone Identification\", frame)\n",
    "\n",
    "    # Check for exit key\n",
    "    if cv2.waitKey(1) & 0xFF == ord(\"q\"):\n",
    "        break\n",
    "\n",
    "cap.release()\n",
    "cv2.destroyAllWindows()"
   ]
  },
  {
   "cell_type": "code",
   "execution_count": 4,
   "metadata": {},
   "outputs": [
    {
     "name": "stderr",
     "output_type": "stream",
     "text": [
      "/Users/komangandikawirasantosa/opt/anaconda3/lib/python3.9/site-packages/onnxruntime/capi/onnxruntime_inference_collection.py:69: UserWarning: Specified provider 'CUDAExecutionProvider' is not in available provider names.Available providers: 'CoreMLExecutionProvider, AzureExecutionProvider, CPUExecutionProvider'\n",
      "  warnings.warn(\n"
     ]
    },
    {
     "name": "stdout",
     "output_type": "stream",
     "text": [
      "Applied providers: ['CPUExecutionProvider'], with options: {'CPUExecutionProvider': {}}\n",
      "find model: /Users/komangandikawirasantosa/.insightface/models/buffalo_l/1k3d68.onnx landmark_3d_68 ['None', 3, 192, 192] 0.0 1.0\n",
      "Applied providers: ['CPUExecutionProvider'], with options: {'CPUExecutionProvider': {}}\n",
      "find model: /Users/komangandikawirasantosa/.insightface/models/buffalo_l/2d106det.onnx landmark_2d_106 ['None', 3, 192, 192] 0.0 1.0\n",
      "Applied providers: ['CPUExecutionProvider'], with options: {'CPUExecutionProvider': {}}\n",
      "find model: /Users/komangandikawirasantosa/.insightface/models/buffalo_l/det_10g.onnx detection [1, 3, '?', '?'] 127.5 128.0\n",
      "Applied providers: ['CPUExecutionProvider'], with options: {'CPUExecutionProvider': {}}\n",
      "find model: /Users/komangandikawirasantosa/.insightface/models/buffalo_l/genderage.onnx genderage ['None', 3, 96, 96] 0.0 1.0\n",
      "Applied providers: ['CPUExecutionProvider'], with options: {'CPUExecutionProvider': {}}\n",
      "find model: /Users/komangandikawirasantosa/.insightface/models/buffalo_l/w600k_r50.onnx recognition ['None', 3, 112, 112] 127.5 127.5\n",
      "set det-size: (640, 640)\n"
     ]
    },
    {
     "name": "stderr",
     "output_type": "stream",
     "text": [
      "/Users/komangandikawirasantosa/opt/anaconda3/lib/python3.9/site-packages/insightface/utils/transform.py:68: FutureWarning: `rcond` parameter will change to the default of machine precision times ``max(M, N)`` where M and N are the input matrix dimensions.\n",
      "To use the future default and silence this warning we advise to pass `rcond=None`, to keep using the old, explicitly pass `rcond=-1`.\n",
      "  P = np.linalg.lstsq(X_homo, Y)[0].T # Affine matrix. 3 x 4\n"
     ]
    }
   ],
   "source": [
    "import cv2\n",
    "import numpy as np\n",
    "import os\n",
    "from insightface import app\n",
    "from scipy.spatial.distance import cosine\n",
    "\n",
    "# Load the InsightFace model\n",
    "face_recognition = app.FaceAnalysis()\n",
    "face_recognition.prepare(ctx_id=0, det_size=(640, 640))\n",
    "\n",
    "# Load the face database\n",
    "database_path = 'Database'  # Replace with the path to your database\n",
    "face_embeddings = {}\n",
    "for person_name in os.listdir(database_path):\n",
    "    person_folder = os.path.join(database_path, person_name)\n",
    "    if os.path.isdir(person_folder):\n",
    "        face_embeddings[person_name] = []\n",
    "        for img_name in os.listdir(person_folder):\n",
    "            img_path = os.path.join(person_folder, img_name)\n",
    "            img = cv2.imread(img_path)\n",
    "            if img is not None:\n",
    "                faces = face_recognition.get(img)\n",
    "                for face in faces:\n",
    "                    # Store the normalized embedding of the first face detected\n",
    "                    face_embeddings[person_name].append(face.normed_embedding)\n"
   ]
  },
  {
   "cell_type": "code",
   "execution_count": 5,
   "metadata": {},
   "outputs": [],
   "source": [
    "cap = cv2.VideoCapture(1)\n",
    "\n",
    "# Set camera properties for better image quality\n",
    "cap.set(cv2.CAP_PROP_BRIGHTNESS, 0.5)  # Adjust brightness (range: 0.0 - 1.0)\n",
    "cap.set(cv2.CAP_PROP_CONTRAST, 0.5)    # Adjust contrast (range: 0.0 - 1.0)\n",
    "cap.set(cv2.CAP_PROP_EXPOSURE, 0.1)     # Adjust exposure (may vary by camera)\n",
    "\n",
    "if not cap.isOpened():\n",
    "    print(\"Error: Could not open camera.\")\n",
    "    exit()\n",
    "\n",
    "while True:\n",
    "    # Capture frame-by-frame\n",
    "    ret, frame = cap.read()\n",
    "    if not ret:\n",
    "        print(\"Error: Could not read frame.\")\n",
    "        break\n",
    "\n",
    "    # Perform face detection and recognition\n",
    "    faces = face_recognition.get(frame)\n",
    "\n",
    "    # Display results\n",
    "    for face in faces:\n",
    "        # Get bounding box and landmarks\n",
    "        bbox = face.bbox.astype(int)\n",
    "        identity = face.normed_embedding\n",
    "\n",
    "        # Compare with the database\n",
    "        recognized_person = None\n",
    "        min_distance = float('inf')\n",
    "        for person_name, embeddings in face_embeddings.items():\n",
    "            for embedding in embeddings:\n",
    "                distance = cosine(identity, embedding)\n",
    "                if distance < min_distance:\n",
    "                    min_distance = distance\n",
    "                    recognized_person = person_name\n",
    "\n",
    "        # Draw bounding box and label on the image\n",
    "        if recognized_person is not None and min_distance < 0.5:  # Adjust threshold as necessary\n",
    "            label = recognized_person\n",
    "        else:\n",
    "            label = \"Unknown\"\n",
    "\n",
    "        cv2.rectangle(frame, (bbox[0], bbox[1]), (bbox[2], bbox[3]), (0, 255, 0), 2)\n",
    "        cv2.putText(frame, label, (bbox[0], bbox[1] - 10), cv2.FONT_HERSHEY_SIMPLEX, 0.5, (0, 255, 0), 2)\n",
    "\n",
    "    # Show the resulting frame\n",
    "    cv2.imshow('Face Recognition', frame)\n",
    "\n",
    "    # Break the loop on 'q' key press\n",
    "    if cv2.waitKey(1) & 0xFF == ord('q'):\n",
    "        break\n",
    "\n",
    "# Release the camera and close windows\n",
    "cap.release()\n",
    "cv2.destroyAllWindows()"
   ]
  }
 ],
 "metadata": {
  "kernelspec": {
   "display_name": "Python 3 (ipykernel)",
   "language": "python",
   "name": "python3"
  },
  "language_info": {
   "codemirror_mode": {
    "name": "ipython",
    "version": 3
   },
   "file_extension": ".py",
   "mimetype": "text/x-python",
   "name": "python",
   "nbconvert_exporter": "python",
   "pygments_lexer": "ipython3",
   "version": "3.9.12"
  }
 },
 "nbformat": 4,
 "nbformat_minor": 2
}
